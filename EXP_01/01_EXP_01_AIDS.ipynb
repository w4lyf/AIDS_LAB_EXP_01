{
  "cells": [
    {
      "cell_type": "code",
      "source": [
        "import pandas as pd\n",
        "import numpy as np\n",
        "import matplotlib.pyplot as plt\n",
        "import seaborn as sns\n",
        "from scipy import stats\n",
        "\n",
        "# Load dataset\n",
        "df = pd.read_csv('Data.csv')"
      ],
      "metadata": {
        "id": "6WdQkgTe_2fS"
      },
      "execution_count": 17,
      "outputs": []
    },
    {
      "cell_type": "code",
      "source": [
        "print(\"Dataset Shape:\", df.shape)\n",
        "print(\"\\nDataset Info:\")\n",
        "df.info()\n",
        "print(\"\\nDataset Description:\")\n",
        "print(df.describe())"
      ],
      "metadata": {
        "id": "z3Y6msoiAffR",
        "outputId": "1bd5f90f-3f71-4556-ac45-e205a3c76dc2",
        "colab": {
          "base_uri": "https://localhost:8080/"
        }
      },
      "execution_count": 18,
      "outputs": [
        {
          "output_type": "stream",
          "name": "stdout",
          "text": [
            "Dataset Shape: (29531, 16)\n",
            "\n",
            "Dataset Info:\n",
            "<class 'pandas.core.frame.DataFrame'>\n",
            "RangeIndex: 29531 entries, 0 to 29530\n",
            "Data columns (total 16 columns):\n",
            " #   Column      Non-Null Count  Dtype  \n",
            "---  ------      --------------  -----  \n",
            " 0   City        29531 non-null  object \n",
            " 1   Date        29531 non-null  object \n",
            " 2   PM2.5       24933 non-null  float64\n",
            " 3   PM10        18391 non-null  float64\n",
            " 4   NO          25949 non-null  float64\n",
            " 5   NO2         25946 non-null  float64\n",
            " 6   NOx         25346 non-null  float64\n",
            " 7   NH3         19203 non-null  float64\n",
            " 8   CO          27472 non-null  float64\n",
            " 9   SO2         25677 non-null  float64\n",
            " 10  O3          25509 non-null  float64\n",
            " 11  Benzene     23908 non-null  float64\n",
            " 12  Toluene     21490 non-null  float64\n",
            " 13  Xylene      11422 non-null  float64\n",
            " 14  AQI         24850 non-null  float64\n",
            " 15  AQI_Bucket  24850 non-null  object \n",
            "dtypes: float64(13), object(3)\n",
            "memory usage: 3.6+ MB\n",
            "\n",
            "Dataset Description:\n",
            "              PM2.5          PM10            NO           NO2           NOx  \\\n",
            "count  24933.000000  18391.000000  25949.000000  25946.000000  25346.000000   \n",
            "mean      67.450578    118.127103     17.574730     28.560659     32.309123   \n",
            "std       64.661449     90.605110     22.785846     24.474746     31.646011   \n",
            "min        0.040000      0.010000      0.020000      0.010000      0.000000   \n",
            "25%       28.820000     56.255000      5.630000     11.750000     12.820000   \n",
            "50%       48.570000     95.680000      9.890000     21.690000     23.520000   \n",
            "75%       80.590000    149.745000     19.950000     37.620000     40.127500   \n",
            "max      949.990000   1000.000000    390.680000    362.210000    467.630000   \n",
            "\n",
            "                NH3            CO           SO2            O3       Benzene  \\\n",
            "count  19203.000000  27472.000000  25677.000000  25509.000000  23908.000000   \n",
            "mean      23.483476      2.248598     14.531977     34.491430      3.280840   \n",
            "std       25.684275      6.962884     18.133775     21.694928     15.811136   \n",
            "min        0.010000      0.000000      0.010000      0.010000      0.000000   \n",
            "25%        8.580000      0.510000      5.670000     18.860000      0.120000   \n",
            "50%       15.850000      0.890000      9.160000     30.840000      1.070000   \n",
            "75%       30.020000      1.450000     15.220000     45.570000      3.080000   \n",
            "max      352.890000    175.810000    193.860000    257.730000    455.030000   \n",
            "\n",
            "            Toluene        Xylene           AQI  \n",
            "count  21490.000000  11422.000000  24850.000000  \n",
            "mean       8.700972      3.070128    166.463581  \n",
            "std       19.969164      6.323247    140.696585  \n",
            "min        0.000000      0.000000     13.000000  \n",
            "25%        0.600000      0.140000     81.000000  \n",
            "50%        2.970000      0.980000    118.000000  \n",
            "75%        9.150000      3.350000    208.000000  \n",
            "max      454.850000    170.370000   2049.000000  \n"
          ]
        }
      ]
    },
    {
      "cell_type": "code",
      "source": [
        "print(\"Missing Values:\")\n",
        "print(df.isnull().sum())"
      ],
      "metadata": {
        "id": "SFPl8YAqB96K",
        "outputId": "789c4d65-0011-48fe-d4a1-29886168e266",
        "colab": {
          "base_uri": "https://localhost:8080/"
        }
      },
      "execution_count": 19,
      "outputs": [
        {
          "output_type": "stream",
          "name": "stdout",
          "text": [
            "Missing Values:\n",
            "City              0\n",
            "Date              0\n",
            "PM2.5          4598\n",
            "PM10          11140\n",
            "NO             3582\n",
            "NO2            3585\n",
            "NOx            4185\n",
            "NH3           10328\n",
            "CO             2059\n",
            "SO2            3854\n",
            "O3             4022\n",
            "Benzene        5623\n",
            "Toluene        8041\n",
            "Xylene        18109\n",
            "AQI            4681\n",
            "AQI_Bucket     4681\n",
            "dtype: int64\n"
          ]
        }
      ]
    },
    {
      "cell_type": "code",
      "source": [
        "df.replace(0, np.nan, inplace=True)\n",
        "df = df.dropna()\n",
        "print(\"Missing Values After Cleaning:\", df.isnull().sum().sum())"
      ],
      "metadata": {
        "id": "OHCNKiV5CgFL",
        "outputId": "2c400206-de9b-44ee-a526-959b81de9fae",
        "colab": {
          "base_uri": "https://localhost:8080/"
        }
      },
      "execution_count": 20,
      "outputs": [
        {
          "output_type": "stream",
          "name": "stdout",
          "text": [
            "Missing Values After Cleaning: 0\n"
          ]
        }
      ]
    },
    {
      "cell_type": "code",
      "source": [
        "df = df.drop_duplicates()"
      ],
      "metadata": {
        "id": "9EvLE0soDaHo"
      },
      "execution_count": 21,
      "outputs": []
    },
    {
      "cell_type": "code",
      "source": [
        "df = pd.get_dummies(df, columns=['AQI_Bucket'], drop_first=True)"
      ],
      "metadata": {
        "id": "LFx49tZvD-mK"
      },
      "execution_count": 22,
      "outputs": []
    },
    {
      "cell_type": "code",
      "source": [
        "print(df.head(10))"
      ],
      "metadata": {
        "id": "NdH6uWt9EFPv",
        "outputId": "b60a0aa9-19f7-4bd1-bb16-c018f2eb4d66",
        "colab": {
          "base_uri": "https://localhost:8080/"
        }
      },
      "execution_count": 23,
      "outputs": [
        {
          "output_type": "stream",
          "name": "stdout",
          "text": [
            "           City        Date  PM2.5    PM10    NO    NO2    NOx    NH3    CO  \\\n",
            "2123  Amaravati  25-11-2017  81.40  124.50  1.44  20.50  12.08  10.72  0.12   \n",
            "2124  Amaravati  26-11-2017  78.32  129.06  1.26  26.00  14.85  10.28  0.14   \n",
            "2125  Amaravati  27-11-2017  88.76  135.32  6.60  30.85  21.77  12.91  0.11   \n",
            "2126  Amaravati  28-11-2017  64.18  104.09  2.56  28.07  17.01  11.42  0.09   \n",
            "2127  Amaravati  29-11-2017  72.47  114.84  5.23  23.20  16.59  12.25  0.16   \n",
            "2128  Amaravati  30-11-2017  69.80  114.86  4.69  20.17  14.54  10.95  0.12   \n",
            "2129  Amaravati  01-12-2017  73.96  113.56  4.58  19.29  13.97  10.95  0.10   \n",
            "2130  Amaravati  02-12-2017  89.90  140.20  7.71  26.19  19.87  13.12  0.10   \n",
            "2131  Amaravati  03-12-2017  87.14  130.52  0.97  21.31  12.12  14.36  0.15   \n",
            "2132  Amaravati  04-12-2017  84.64  125.00  4.02  26.98  17.58  14.41  0.18   \n",
            "\n",
            "        SO2      O3  Benzene  Toluene  Xylene    AQI  AQI_Bucket_Moderate  \\\n",
            "2123  15.24  127.09     0.20     6.50    0.06  184.0                 True   \n",
            "2124  26.96  117.44     0.22     7.95    0.08  197.0                 True   \n",
            "2125  33.59  111.81     0.29     7.63    0.12  198.0                 True   \n",
            "2126  19.00  138.18     0.17     5.02    0.07  188.0                 True   \n",
            "2127  10.55  109.74     0.21     4.71    0.08  173.0                 True   \n",
            "2128  14.07  118.09     0.16     3.52    0.06  165.0                 True   \n",
            "2129  13.90  123.80     0.17     2.85    0.04  191.0                 True   \n",
            "2130  19.37  128.73     0.25     2.79    0.07  191.0                 True   \n",
            "2131  11.41  114.80     0.23     3.82    0.04  227.0                False   \n",
            "2132   9.84  112.41     0.31     3.53    0.09  168.0                 True   \n",
            "\n",
            "      AQI_Bucket_Poor  AQI_Bucket_Satisfactory  AQI_Bucket_Severe  \\\n",
            "2123            False                    False              False   \n",
            "2124            False                    False              False   \n",
            "2125            False                    False              False   \n",
            "2126            False                    False              False   \n",
            "2127            False                    False              False   \n",
            "2128            False                    False              False   \n",
            "2129            False                    False              False   \n",
            "2130            False                    False              False   \n",
            "2131             True                    False              False   \n",
            "2132            False                    False              False   \n",
            "\n",
            "      AQI_Bucket_Very Poor  \n",
            "2123                 False  \n",
            "2124                 False  \n",
            "2125                 False  \n",
            "2126                 False  \n",
            "2127                 False  \n",
            "2128                 False  \n",
            "2129                 False  \n",
            "2130                 False  \n",
            "2131                 False  \n",
            "2132                 False  \n"
          ]
        }
      ]
    },
    {
      "cell_type": "code",
      "source": [
        "#By Z-score method\n",
        "mean_aqi = df['AQI'].mean()\n",
        "std_aqi = df['AQI'].std()\n",
        "\n",
        "print (f\"Mean of AQI: {mean_aqi}\")\n",
        "print (f\"Standard Deviation of AQI: {std_aqi}\")\n",
        "\n",
        "df['Z_Score'] = (df['AQI'] - mean_aqi) / std_aqi\n",
        "print(df[['AQI', 'Z_Score']])\n",
        "\n",
        "# Identify outliers based on the Z-score\n",
        "outliers =df[df['Z_Score'].abs() > 3]\n",
        "print (outliers)"
      ],
      "metadata": {
        "id": "KJ1jf6V7GG1w",
        "outputId": "4e78835d-5bf2-4da9-e1ad-cc2ed8f3ff0f",
        "colab": {
          "base_uri": "https://localhost:8080/"
        }
      },
      "execution_count": 24,
      "outputs": [
        {
          "output_type": "stream",
          "name": "stdout",
          "text": [
            "Mean of AQI: 138.48802144412798\n",
            "Standard Deviation of AQI: 91.64490404411067\n",
            "         AQI   Z_Score\n",
            "2123   184.0  0.496612\n",
            "2124   197.0  0.638464\n",
            "2125   198.0  0.649376\n",
            "2126   188.0  0.540259\n",
            "2127   173.0  0.376584\n",
            "...      ...       ...\n",
            "29523   86.0 -0.572733\n",
            "29524   77.0 -0.670938\n",
            "29525   47.0 -0.998288\n",
            "29526   41.0 -1.063758\n",
            "29527   70.0 -0.747319\n",
            "\n",
            "[5969 rows x 2 columns]\n",
            "            City        Date   PM2.5    PM10     NO    NO2     NOx    NH3  \\\n",
            "3308    Amritsar  20-10-2017  248.12  445.44  29.93  40.11   70.05  60.89   \n",
            "4265    Amritsar  03-06-2020   26.72  486.99  20.32  12.54   29.09  12.08   \n",
            "10229      Delhi  01-01-2015  313.22  607.98  69.16  36.39  110.59  33.85   \n",
            "10230      Delhi  02-01-2015  186.18  269.55  62.09  32.87   88.14  31.83   \n",
            "10521      Delhi  20-10-2015  198.10  336.47  91.29  74.62  155.10  36.75   \n",
            "...          ...         ...     ...     ...    ...    ...     ...    ...   \n",
            "14880  Hyderabad  30-10-2015  516.20   82.97   3.03   0.62    2.72  10.78   \n",
            "14881  Hyderabad  31-10-2015  270.21  104.38   3.12   0.65    2.57  11.20   \n",
            "14994  Hyderabad  21-02-2016  525.09   94.00  16.96  19.14   34.70  10.53   \n",
            "14995  Hyderabad  22-02-2016  353.58   95.54   8.53  16.83   23.94  10.47   \n",
            "25531      Patna  24-12-2019  242.58  158.08   8.62  42.92   47.85  49.80   \n",
            "\n",
            "          CO    SO2  ...  Benzene  Toluene  Xylene    AQI  \\\n",
            "3308    1.08   9.66  ...     3.47     7.62   28.33  463.0   \n",
            "4265    0.58  10.48  ...     1.30     1.10    8.72  478.0   \n",
            "10229  15.20   9.25  ...    14.36    24.86    9.84  472.0   \n",
            "10230   9.54   6.65  ...    10.55    20.09    4.29  454.0   \n",
            "10521   2.17  16.73  ...     9.50    38.80    1.96  428.0   \n",
            "...      ...    ...  ...      ...      ...     ...    ...   \n",
            "14880   1.09   4.77  ...     1.05     5.82    0.47  487.0   \n",
            "14881   0.94   8.98  ...     1.07     6.22    1.58  502.0   \n",
            "14994   1.57   8.75  ...     2.16    13.13    2.85  442.0   \n",
            "14995   1.17   9.43  ...     1.40     9.80    2.38  510.0   \n",
            "25531   2.75  10.66  ...     3.79     8.30    8.14  449.0   \n",
            "\n",
            "       AQI_Bucket_Moderate  AQI_Bucket_Poor  AQI_Bucket_Satisfactory  \\\n",
            "3308                 False            False                    False   \n",
            "4265                 False            False                    False   \n",
            "10229                False            False                    False   \n",
            "10230                False            False                    False   \n",
            "10521                False            False                    False   \n",
            "...                    ...              ...                      ...   \n",
            "14880                False            False                    False   \n",
            "14881                False            False                    False   \n",
            "14994                False            False                    False   \n",
            "14995                False            False                    False   \n",
            "25531                False            False                    False   \n",
            "\n",
            "       AQI_Bucket_Severe  AQI_Bucket_Very Poor   Z_Score  \n",
            "3308                True                 False  3.540971  \n",
            "4265                True                 False  3.704647  \n",
            "10229               True                 False  3.639176  \n",
            "10230               True                 False  3.442766  \n",
            "10521               True                 False  3.159062  \n",
            "...                  ...                   ...       ...  \n",
            "14880               True                 False  3.802852  \n",
            "14881               True                 False  3.966527  \n",
            "14994               True                 False  3.311826  \n",
            "14995               True                 False  4.053820  \n",
            "25531               True                 False  3.388208  \n",
            "\n",
            "[94 rows x 21 columns]\n"
          ]
        }
      ]
    },
    {
      "cell_type": "code",
      "source": [
        "min_aqi = df['AQI'].min()\n",
        "max_aqi = df['AQI'].max()\n",
        "df['AQI_normalized'] = (df['AQI'] - min_aqi) / (max_aqi - min_aqi)"
      ],
      "metadata": {
        "id": "_z2Z2kvkJLfV"
      },
      "execution_count": 25,
      "outputs": []
    },
    {
      "cell_type": "code",
      "source": [
        "print(df [['AQI', 'AQI_normalized']])"
      ],
      "metadata": {
        "id": "UG-DpzcIJVCS",
        "outputId": "77e92e48-af8a-476d-b96a-7c12f328afb3",
        "colab": {
          "base_uri": "https://localhost:8080/"
        }
      },
      "execution_count": 26,
      "outputs": [
        {
          "output_type": "stream",
          "name": "stdout",
          "text": [
            "         AQI  AQI_normalized\n",
            "2123   184.0        0.246177\n",
            "2124   197.0        0.266055\n",
            "2125   198.0        0.267584\n",
            "2126   188.0        0.252294\n",
            "2127   173.0        0.229358\n",
            "...      ...             ...\n",
            "29523   86.0        0.096330\n",
            "29524   77.0        0.082569\n",
            "29525   47.0        0.036697\n",
            "29526   41.0        0.027523\n",
            "29527   70.0        0.071865\n",
            "\n",
            "[5969 rows x 2 columns]\n"
          ]
        }
      ]
    }
  ],
  "metadata": {
    "colab": {
      "name": "Welcome To Colab",
      "provenance": []
    },
    "kernelspec": {
      "display_name": "Python 3",
      "name": "python3"
    }
  },
  "nbformat": 4,
  "nbformat_minor": 0
}