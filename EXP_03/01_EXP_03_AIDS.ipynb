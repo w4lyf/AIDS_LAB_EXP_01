{
  "cells": [
    {
      "cell_type": "code",
      "source": [
        "import pandas as pd\n",
        "import numpy as np\n",
        "import matplotlib.pyplot as plt\n",
        "import seaborn as sns\n",
        "from sklearn.model_selection import train_test_split\n",
        "from statsmodels.stats.weightstats import ztest\n",
        "\n",
        "df = pd.read_csv('Data.csv')"
      ],
      "metadata": {
        "id": "_6RhdZNFP7Kt"
      },
      "execution_count": 42,
      "outputs": []
    },
    {
      "cell_type": "code",
      "source": [
        "train_df, test_df = train_test_split(df, test_size=0.25, random_state=42)\n",
        "\n",
        "print(\"Training Set Shape:\", train_df.shape)\n",
        "print(\"Testing Set Shape:\", test_df.shape)"
      ],
      "metadata": {
        "id": "Swx_t0n_RDx5",
        "outputId": "16e6023b-26d7-48b5-b32c-3623c725bb91",
        "colab": {
          "base_uri": "https://localhost:8080/"
        }
      },
      "execution_count": 43,
      "outputs": [
        {
          "output_type": "stream",
          "name": "stdout",
          "text": [
            "Training Set Shape: (22148, 16)\n",
            "Testing Set Shape: (7383, 16)\n"
          ]
        }
      ]
    },
    {
      "cell_type": "code",
      "source": [
        "plt.figure(figsize=(8,5))\n",
        "plt.bar(['Training Set', 'Testing Set'], [len(train_df), len(test_df)], color=['blue', 'orange'])\n",
        "plt.title(\"Training vs Testing Set Distribution\")\n",
        "plt.ylabel(\"Number of Records\")\n",
        "plt.show()"
      ],
      "metadata": {
        "id": "ThjCw6wYR1KH",
        "outputId": "749bd433-141f-46c6-f91b-2d1627780b6d",
        "colab": {
          "base_uri": "https://localhost:8080/",
          "height": 468
        }
      },
      "execution_count": 44,
      "outputs": [
        {
          "output_type": "display_data",
          "data": {
            "text/plain": [
              "<Figure size 800x500 with 1 Axes>"
            ],
            "image/png": "[encoded data removed]"
          },
          "metadata": {}
        }
      ]
    },
    {
      "cell_type": "code",
      "source": [
        "print(\"Training Set Records:\", len(train_df))\n",
        "print(\"Testing Set Records:\", len(test_df))"
      ],
      "metadata": {
        "id": "NQFUFBoMSeGs",
        "outputId": "b3c78abd-eab1-4b37-a444-f3ecc1a5a94b",
        "colab": {
          "base_uri": "https://localhost:8080/"
        }
      },
      "execution_count": 45,
      "outputs": [
        {
          "output_type": "stream",
          "name": "stdout",
          "text": [
            "Training Set Records: 22148\n",
            "Testing Set Records: 7383\n"
          ]
        }
      ]
    },
    {
      "cell_type": "code",
      "source": [
        "# Perform Z-test for 'AQI' between training and test datasets\n",
        "train_aqi = train_df['AQI']\n",
        "test_aqi = test_df['AQI']\n",
        "\n",
        "# Z-test for independent samples\n",
        "z_stat, p_val = ztest(train_aqi, test_aqi)\n",
        "\n",
        "# Display Z-test results\n",
        "print(f\"Z-statistic: {z_stat}\")\n",
        "print(f\"P-value: {p_val}\")\n",
        "\n",
        "# Interpret the result\n",
        "if p_val < 0.05:\n",
        "    print(\"There is a significant difference between the training and test data for AQI.\")\n",
        "else:\n",
        "    print(\"There is no significant difference between the training and test data for AQI.\")"
      ],
      "metadata": {
        "id": "auzVxyf4TagN",
        "outputId": "0b2b019d-a077-4d02-d653-c74c2fdba577",
        "colab": {
          "base_uri": "https://localhost:8080/"
        }
      },
      "execution_count": 50,
      "outputs": [
        {
          "output_type": "stream",
          "name": "stdout",
          "text": [
            "Z-statistic: -2.425627418979989 \n",
            "P-value: 0.015281950139779434\n",
            "There is no significant difference between the training and test data for AQI.\n"
          ]
        }
      ]
    }
  ],
  "metadata": {
    "colab": {
      "name": "Welcome To Colab",
      "provenance": []
    },
    "kernelspec": {
      "display_name": "Python 3",
      "name": "python3"
    }
  },
  "nbformat": 4,
  "nbformat_minor": 0
}