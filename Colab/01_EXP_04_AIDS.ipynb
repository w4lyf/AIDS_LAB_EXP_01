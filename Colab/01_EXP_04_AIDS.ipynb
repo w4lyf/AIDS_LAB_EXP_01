{
  "cells": [
    {
      "cell_type": "code",
      "source": [
        "import pandas as pd\n",
        "import numpy as np\n",
        "import matplotlib.pyplot as plt\n",
        "from sklearn.preprocessing import MinMaxScaler\n",
        "from scipy.stats import pearsonr\n",
        "from scipy.stats import spearmanr\n",
        "from scipy.stats import kendalltau\n",
        "from scipy.stats import chi2_contingency\n",
        "import seaborn as sns"
      ],
      "metadata": {
        "id": "QtI5saTLsgQ8"
      },
      "execution_count": 65,
      "outputs": []
    },
    {
      "cell_type": "code",
      "source": [
        "df = pd.read_csv(\"new_data.csv\")"
      ],
      "metadata": {
        "id": "DQkF5LkBsin9"
      },
      "execution_count": 53,
      "outputs": []
    },
    {
      "cell_type": "code",
      "source": [
        "pearson_corr, pearson_p = pearsonr (df ['PM2.5'], df ['AQI'])\n",
        "print(f\"Pearson Correlation: {pearson_corr:.4f}, p-value: {pearson_p:.4f}\")\n"
      ],
      "metadata": {
        "id": "X90_1QEUstSa",
        "outputId": "95c3e751-4774-452e-cee5-e1411d3e6caf",
        "colab": {
          "base_uri": "https://localhost:8080/"
        }
      },
      "execution_count": 56,
      "outputs": [
        {
          "output_type": "stream",
          "name": "stdout",
          "text": [
            "Pearson Correlation: 0.8085, p-value: 0.0000\n"
          ]
        }
      ]
    },
    {
      "cell_type": "code",
      "source": [
        "spearman_corr, spearman_p = spearmanr (df['PM2.5'], df['AQI'])\n",
        "print(f\"Spearman Correlation: {spearman_corr:.4f}, p-value: {spearman_p:.4f}\")\n"
      ],
      "metadata": {
        "id": "aiDInvvVs-Rc",
        "outputId": "90560219-2eea-47e1-bdf1-4df3a8482f94",
        "colab": {
          "base_uri": "https://localhost:8080/"
        }
      },
      "execution_count": 60,
      "outputs": [
        {
          "output_type": "stream",
          "name": "stdout",
          "text": [
            "Spearman Correlation: 0.8650, p-value: 0.0000\n"
          ]
        }
      ]
    },
    {
      "cell_type": "code",
      "source": [
        "kendall_corr, kendall_p = kendalltau(df['PM2.5'], df['AQI'])\n",
        "print(f\"Kendall Correlation: {kendall_corr:.4f}, p-value: {kendall_p:.4f}\")\n"
      ],
      "metadata": {
        "id": "TuY82wuptLQ1",
        "outputId": "33cf0266-b824-4fbe-d26a-9083cfe94b5f",
        "colab": {
          "base_uri": "https://localhost:8080/"
        }
      },
      "execution_count": 62,
      "outputs": [
        {
          "output_type": "stream",
          "name": "stdout",
          "text": [
            "Kendall Correlation: 0.7018, p-value: 0.0000\n"
          ]
        }
      ]
    },
    {
      "cell_type": "code",
      "source": [
        "# Categorize AQI into bins\n",
        "df['AQI_Category'] = pd.cut(df['AQI'], bins=3, labels=['Low', 'Medium', 'High'])\n",
        "\n",
        "# Create contingency table between AQI_Category and PM2.5\n",
        "table = pd.crosstab(df['AQI_Category'], df['PM2.5'])\n",
        "\n",
        "# Perform Chi-Square Test\n",
        "chi2_stat, chi2_p, _, _ = chi2_contingency(table)\n",
        "print(f\"Chi-Squared Statistic: {chi2_stat:.4f}, p-value: {chi2_p:.4f}\")\n"
      ],
      "metadata": {
        "id": "_teKeNzStPVh",
        "outputId": "fea410d6-27bf-4789-c532-cf1c5d602ffe",
        "colab": {
          "base_uri": "https://localhost:8080/"
        }
      },
      "execution_count": 66,
      "outputs": [
        {
          "output_type": "stream",
          "name": "stdout",
          "text": [
            "Chi-Squared Statistic: 24116.0969, p-value: 0.0000\n"
          ]
        }
      ]
    }
  ],
  "metadata": {
    "colab": {
      "name": "Welcome To Colab",
      "provenance": []
    },
    "kernelspec": {
      "display_name": "Python 3",
      "name": "python3"
    }
  },
  "nbformat": 4,
  "nbformat_minor": 0
}